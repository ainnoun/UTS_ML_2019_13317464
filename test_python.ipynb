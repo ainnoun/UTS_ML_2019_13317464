{
  "nbformat": 4,
  "nbformat_minor": 0,
  "metadata": {
    "colab": {
      "name": "test_python.ipynb",
      "version": "0.3.2",
      "provenance": []
    },
    "kernelspec": {
      "name": "python3",
      "display_name": "Python 3"
    }
  },
  "cells": [
    {
      "cell_type": "code",
      "metadata": {
        "id": "SVMkUbsshW86",
        "colab_type": "code",
        "outputId": "d36459cf-4305-44c7-fd74-fa1ff60352c9",
        "colab": {
          "base_uri": "https://localhost:8080/",
          "height": 34
        }
      },
      "source": [
        "print ('hello world')"
      ],
      "execution_count": 0,
      "outputs": [
        {
          "output_type": "stream",
          "text": [
            "hello world\n"
          ],
          "name": "stdout"
        }
      ]
    },
    {
      "cell_type": "code",
      "metadata": {
        "id": "lMh6HyoNiuc3",
        "colab_type": "code",
        "outputId": "2f1a4f14-ca15-4583-bf63-1862fcdb4c86",
        "colab": {
          "base_uri": "https://localhost:8080/",
          "height": 187
        }
      },
      "source": [
        "x = range(10)\n",
        "for value in x:\n",
        "  print(value)"
      ],
      "execution_count": 0,
      "outputs": [
        {
          "output_type": "stream",
          "text": [
            "0\n",
            "1\n",
            "2\n",
            "3\n",
            "4\n",
            "5\n",
            "6\n",
            "7\n",
            "8\n",
            "9\n"
          ],
          "name": "stdout"
        }
      ]
    },
    {
      "cell_type": "code",
      "metadata": {
        "id": "-dv0dVIPjN8I",
        "colab_type": "code",
        "colab": {}
      },
      "source": [
        "import numpy as np"
      ],
      "execution_count": 0,
      "outputs": []
    },
    {
      "cell_type": "code",
      "metadata": {
        "id": "an1pl468qy4y",
        "colab_type": "code",
        "colab": {}
      },
      "source": [
        "A = np.random.rand(5, 10)\n",
        "B = np.random.rand(10,3)\n",
        "C = np.zeros((5,3))\n",
        "mul_operation_counter = 0\n"
      ],
      "execution_count": 0,
      "outputs": []
    },
    {
      "cell_type": "code",
      "metadata": {
        "id": "NRs4c7HArGLx",
        "colab_type": "code",
        "colab": {
          "base_uri": "https://localhost:8080/",
          "height": 1000
        },
        "outputId": "6ba52ed3-459e-4e56-cf61-c34459604fa5"
      },
      "source": [
        "for row in(0,1,2,3,4):\n",
        "  for column in (0,1,2):\n",
        "    s = 0\n",
        "    for k in (0,1,2,3,4,5,6,7,8,9):\n",
        "      s = s + A[row,k]*B[k,column]\n",
        "      mul_operation_counter +=1\n",
        "      C[row,column]=s\n",
        "      print(\"Mul Ops:\", mul_operation_counter)"
      ],
      "execution_count": 4,
      "outputs": [
        {
          "output_type": "stream",
          "text": [
            "Mul Ops: 2\n",
            "Mul Ops: 3\n",
            "Mul Ops: 4\n",
            "Mul Ops: 5\n",
            "Mul Ops: 6\n",
            "Mul Ops: 7\n",
            "Mul Ops: 8\n",
            "Mul Ops: 9\n",
            "Mul Ops: 10\n",
            "Mul Ops: 11\n",
            "Mul Ops: 12\n",
            "Mul Ops: 13\n",
            "Mul Ops: 14\n",
            "Mul Ops: 15\n",
            "Mul Ops: 16\n",
            "Mul Ops: 17\n",
            "Mul Ops: 18\n",
            "Mul Ops: 19\n",
            "Mul Ops: 20\n",
            "Mul Ops: 21\n",
            "Mul Ops: 22\n",
            "Mul Ops: 23\n",
            "Mul Ops: 24\n",
            "Mul Ops: 25\n",
            "Mul Ops: 26\n",
            "Mul Ops: 27\n",
            "Mul Ops: 28\n",
            "Mul Ops: 29\n",
            "Mul Ops: 30\n",
            "Mul Ops: 31\n",
            "Mul Ops: 32\n",
            "Mul Ops: 33\n",
            "Mul Ops: 34\n",
            "Mul Ops: 35\n",
            "Mul Ops: 36\n",
            "Mul Ops: 37\n",
            "Mul Ops: 38\n",
            "Mul Ops: 39\n",
            "Mul Ops: 40\n",
            "Mul Ops: 41\n",
            "Mul Ops: 42\n",
            "Mul Ops: 43\n",
            "Mul Ops: 44\n",
            "Mul Ops: 45\n",
            "Mul Ops: 46\n",
            "Mul Ops: 47\n",
            "Mul Ops: 48\n",
            "Mul Ops: 49\n",
            "Mul Ops: 50\n",
            "Mul Ops: 51\n",
            "Mul Ops: 52\n",
            "Mul Ops: 53\n",
            "Mul Ops: 54\n",
            "Mul Ops: 55\n",
            "Mul Ops: 56\n",
            "Mul Ops: 57\n",
            "Mul Ops: 58\n",
            "Mul Ops: 59\n",
            "Mul Ops: 60\n",
            "Mul Ops: 61\n",
            "Mul Ops: 62\n",
            "Mul Ops: 63\n",
            "Mul Ops: 64\n",
            "Mul Ops: 65\n",
            "Mul Ops: 66\n",
            "Mul Ops: 67\n",
            "Mul Ops: 68\n",
            "Mul Ops: 69\n",
            "Mul Ops: 70\n",
            "Mul Ops: 71\n",
            "Mul Ops: 72\n",
            "Mul Ops: 73\n",
            "Mul Ops: 74\n",
            "Mul Ops: 75\n",
            "Mul Ops: 76\n",
            "Mul Ops: 77\n",
            "Mul Ops: 78\n",
            "Mul Ops: 79\n",
            "Mul Ops: 80\n",
            "Mul Ops: 81\n",
            "Mul Ops: 82\n",
            "Mul Ops: 83\n",
            "Mul Ops: 84\n",
            "Mul Ops: 85\n",
            "Mul Ops: 86\n",
            "Mul Ops: 87\n",
            "Mul Ops: 88\n",
            "Mul Ops: 89\n",
            "Mul Ops: 90\n",
            "Mul Ops: 91\n",
            "Mul Ops: 92\n",
            "Mul Ops: 93\n",
            "Mul Ops: 94\n",
            "Mul Ops: 95\n",
            "Mul Ops: 96\n",
            "Mul Ops: 97\n",
            "Mul Ops: 98\n",
            "Mul Ops: 99\n",
            "Mul Ops: 100\n",
            "Mul Ops: 101\n",
            "Mul Ops: 102\n",
            "Mul Ops: 103\n",
            "Mul Ops: 104\n",
            "Mul Ops: 105\n",
            "Mul Ops: 106\n",
            "Mul Ops: 107\n",
            "Mul Ops: 108\n",
            "Mul Ops: 109\n",
            "Mul Ops: 110\n",
            "Mul Ops: 111\n",
            "Mul Ops: 112\n",
            "Mul Ops: 113\n",
            "Mul Ops: 114\n",
            "Mul Ops: 115\n",
            "Mul Ops: 116\n",
            "Mul Ops: 117\n",
            "Mul Ops: 118\n",
            "Mul Ops: 119\n",
            "Mul Ops: 120\n",
            "Mul Ops: 121\n",
            "Mul Ops: 122\n",
            "Mul Ops: 123\n",
            "Mul Ops: 124\n",
            "Mul Ops: 125\n",
            "Mul Ops: 126\n",
            "Mul Ops: 127\n",
            "Mul Ops: 128\n",
            "Mul Ops: 129\n",
            "Mul Ops: 130\n",
            "Mul Ops: 131\n",
            "Mul Ops: 132\n",
            "Mul Ops: 133\n",
            "Mul Ops: 134\n",
            "Mul Ops: 135\n",
            "Mul Ops: 136\n",
            "Mul Ops: 137\n",
            "Mul Ops: 138\n",
            "Mul Ops: 139\n",
            "Mul Ops: 140\n",
            "Mul Ops: 141\n",
            "Mul Ops: 142\n",
            "Mul Ops: 143\n",
            "Mul Ops: 144\n",
            "Mul Ops: 145\n",
            "Mul Ops: 146\n",
            "Mul Ops: 147\n",
            "Mul Ops: 148\n",
            "Mul Ops: 149\n",
            "Mul Ops: 150\n",
            "Mul Ops: 151\n"
          ],
          "name": "stdout"
        }
      ]
    },
    {
      "cell_type": "code",
      "metadata": {
        "id": "s-4qVcG4ruF8",
        "colab_type": "code",
        "colab": {}
      },
      "source": [
        ""
      ],
      "execution_count": 0,
      "outputs": []
    }
  ]
}