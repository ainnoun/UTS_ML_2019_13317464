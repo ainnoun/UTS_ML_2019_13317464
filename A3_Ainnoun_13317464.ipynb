{
  "nbformat": 4,
  "nbformat_minor": 0,
  "metadata": {
    "kernelspec": {
      "display_name": "Python 3",
      "language": "python",
      "name": "python3"
    },
    "language_info": {
      "codemirror_mode": {
        "name": "ipython",
        "version": 3
      },
      "file_extension": ".py",
      "mimetype": "text/x-python",
      "name": "python",
      "nbconvert_exporter": "python",
      "pygments_lexer": "ipython3",
      "version": "3.5.4"
    },
    "toc": {
      "base_numbering": 1,
      "nav_menu": {},
      "number_sections": true,
      "sideBar": true,
      "skip_h1_title": false,
      "title_cell": "Table of Contents",
      "title_sidebar": "Contents",
      "toc_cell": false,
      "toc_position": {},
      "toc_section_display": true,
      "toc_window_display": false
    },
    "colab": {
      "name": "A3_Ainnoun_13317464.ipynb",
      "provenance": [],
      "collapsed_sections": [],
      "include_colab_link": true
    }
  },
  "cells": [
    {
      "cell_type": "markdown",
      "metadata": {
        "id": "view-in-github",
        "colab_type": "text"
      },
      "source": [
        "<a href=\"https://colab.research.google.com/github/ainnoun/UTS_ML_2019_ID13317464/blob/master/A3_Ainnoun_13317464.ipynb\" target=\"_parent\"><img src=\"https://colab.research.google.com/assets/colab-badge.svg\" alt=\"Open In Colab\"/></a>"
      ]
    },
    {
      "cell_type": "markdown",
      "metadata": {
        "id": "Z2BP0654x2KP",
        "colab_type": "text"
      },
      "source": [
        "# Generating Travel and Tourism Trends and Risks "
      ]
    },
    {
      "cell_type": "markdown",
      "metadata": {
        "id": "RSlZ2v5Bx2KW",
        "colab_type": "text"
      },
      "source": [
        "## Aims"
      ]
    },
    {
      "cell_type": "markdown",
      "metadata": {
        "id": "s0Crfoatx2KX",
        "colab_type": "text"
      },
      "source": [
        "This project is to perform neural network method to build insights for predicting tourism trends and risks by certain indicators. Apart from the main objective, it is defined sub objective referring to:\n",
        "-\tIdentify attributes or indicators to be used as inputs in training dataset;\n",
        "-\tBuilding the performance of machine learning algorithm using neural network method to classify the values;\n",
        "-\tEvaluate and validate the mode;\n",
        "-\tCompare to the original data."
      ]
    },
    {
      "cell_type": "markdown",
      "metadata": {
        "id": "HSM15kue02o4",
        "colab_type": "text"
      },
      "source": [
        "\n",
        "In this case, we will use reliable datasets published by WEF (World Economic Forum) that is The Travel and Tourism Competitiveness Index (TTCI) 2019 report. The dataset comprises of 14 pillars with 90 indicators. It is derived from one third of survey and two third data are retrieved from other sources (international organisations). Fourteen pillars should be given values ranging from 1 (worst) to 7 (best) based on indicator values. Each pillar has several indicators comprising:\n",
        "1.\tBusiness Environment (12 indicators) \n",
        "2.\tSafety and Security (5 indicators) \n",
        "3.\tHealth and Hygiene (6 indicators) \n",
        "4.\tHuman Resources and Labour Market (9 indicators) \n",
        "5.\tICT Readiness (8 indicators) \n",
        "6.\tPrioritization of Travel and Tourism (6 indicators) \n",
        "7.\tInternational Openness (3 indicators) \n",
        "8.\tPrice Competitiveness (4 indicators)\n",
        "9.\tEnvironmental Sustainability (10 indicators) \n",
        "10.\tAir Transport Infrastructure (6 indicators) \n",
        "11.\tGround and Port Infrastructure (7 indicators) \n",
        "12.\tTourist Service Infrastructure (4 indicators) \n",
        "13.\tNatural Resources (5 indicators) \n",
        "14.\tCultural Resources and Business Travel (5 indicators) "
      ]
    },
    {
      "cell_type": "markdown",
      "metadata": {
        "id": "6D3nRoNK--C9",
        "colab_type": "text"
      },
      "source": [
        "![alt text](https://raw.githubusercontent.com/ainnoun/UTS_ML_2019_ID13317464/master/TTCI.png)\n",
        "\n",
        "*Figure 1: Travel and Tourism Competitiveness Index 2019*"
      ]
    },
    {
      "cell_type": "markdown",
      "metadata": {
        "colab_type": "text",
        "id": "XmkXB4vO8Xrg"
      },
      "source": [
        "## Background"
      ]
    },
    {
      "cell_type": "markdown",
      "metadata": {
        "id": "Omd8XIk4x2KY",
        "colab_type": "text"
      },
      "source": [
        "The rapid growth of travel and tourism sector has contributed to the economic sector. According to UNWTO (United Nation World Tourism Organisation) (2019), around 1.8 billion international tourist arrival is predicted by 2030. The largest number should be taken into account as tourism sector is a key driver for social-economic progress. World Economic Forum (WEF) (2019) has published the travel and tourism competitiveness index (TTCI) measuring factors in the travel and tourism sector of 140 countries. TTCI is derived from the measurement of relevant factors (14 pillars including 90 indicators) which relates to tourism sectors of individual country. TTCI is generates to ensure the competitiveness meet the demands. It provides reliable values for government and other stakeholders to acknowledge the emerging trends and anticipate the risks in the tourism sector. Stakeholders can use the generated unique insights to develop tourism areas and enhance industry competitiveness. By driving the competitiveness, they adapt the policies, practices, and investment decision from other countries to be implemented in order to satisfy the tourism demands as well improve the strategy and accurate planning. Even though the result of travel and tourism competitiveness is published every two years, it is possible to be conducted annually. It might require more resources and robust method to analyse the data."
      ]
    },
    {
      "cell_type": "markdown",
      "metadata": {
        "id": "5SZELhFK8hzG",
        "colab_type": "text"
      },
      "source": [
        "In this project, we propose the different machine learning algorithm using the neural network method to gain the accuracy. The neural network is widely used in predicting tourism demands as it optimizes the training that affects in the prediction tourism trends and risks. It is suggested that they are able to handle the problem more accurate, robust and powerful classification techniques that has similar work to the brains."
      ]
    },
    {
      "cell_type": "markdown",
      "metadata": {
        "id": "G-L0F48cx2KZ",
        "colab_type": "text"
      },
      "source": [
        "## Research Project"
      ]
    },
    {
      "cell_type": "markdown",
      "metadata": {
        "id": "8t0j7gpkx2Ka",
        "colab_type": "text"
      },
      "source": [
        "This year, WEF has released TTCI 2019 report encompassing the insights of travel and tourism competitiveness index of 140 countries. The TTCI is derived from an arithmetic mean from the four component sub-indexes with each pillar is calculated as an un-weighted average of the individual indicator. Afterwards the data indicators are normalized to a 1 to 7 scale to align them with survey result. Other researches have been conducted on evaluating the ranking of every country using diverse machine learning methods to obtain trustworthiness. Considering diverse and rapid changes of the indicators every year, it might be possible to adopt neural network method to perform better. Hence, this project will evaluate the performance of the neural network method using the TTCI dataset."
      ]
    },
    {
      "cell_type": "markdown",
      "metadata": {
        "id": "N7mre56J8qfE",
        "colab_type": "text"
      },
      "source": [
        "A neural network (NN) method consists of given several inputs, output, and hidden layer located between input and output with responsibility transform and learn the mapping between both layers (Canuma, 2019). The approach of own learning is to map its input to obtain targets. It captures the more complex relationships rather than linear relationships, handle noisy, and suitable for modelling, classification, prediction. In this case, we will implement multi-layer perceptron (MLP) which is a class of the most common neural network architecture. It is also suitable for classification and regression prediction problems. Regarding its effectiveness, we will implement this method to analyze the value of each indicator, then evaluate its performance. MLP use a non-linear function in the hidden and output layers to allow the network to identify non-linear relationships in inputs. "
      ]
    },
    {
      "cell_type": "markdown",
      "metadata": {
        "id": "bGT5v3Ra8tGk",
        "colab_type": "text"
      },
      "source": [
        "Several research have been conducted on the evaluation of TTCI. Wu (2011) evaluated the ranking using data envelopment analysis (DEA), grey system theory (GST), artificial neural network (ANN) and Borda Count Methodology. He concluded that DEA generated better performance among them which is more relevant to the ranking. Apart from evaluating the ranking, we focus on identifying and analysing indicators using MLP to generate classification in value 1 to 7 for each pillar. Considering varied indicators and the relationships between the indicators affecting several pillars (14 pillars with 90 indicators), I proposed the neural network method using MLP to classify each pillar in the range 1 to 7 based on the indicators in order to generate the accuracy. After building the model, it will be evaluated and generated the accuracy."
      ]
    },
    {
      "cell_type": "markdown",
      "metadata": {
        "id": "Owupy_ft8vdf",
        "colab_type": "text"
      },
      "source": [
        "**The Proposed Procedure**\n",
        "\n",
        "According to CRISP-DM, the life cycle of the data mining project encompasses 6 phases: business understanding, data understanding, data preparation, modelling, evaluation, deployment. These phases is adopted into the proposed project during implementing the machine learning method. We also represent the procedure of the machine learning project."
      ]
    },
    {
      "cell_type": "markdown",
      "metadata": {
        "id": "FZs4i7368y8K",
        "colab_type": "text"
      },
      "source": [
        "![alt text](https://raw.githubusercontent.com/ainnoun/UTS_ML_2019_ID13317464/master/procedure.jpg)\n",
        "\n",
        "*Figure 2: The procedure of provided solution*"
      ]
    },
    {
      "cell_type": "markdown",
      "metadata": {
        "id": "_Gp__WXL804K",
        "colab_type": "text"
      },
      "source": [
        "**Project Timeline**\n",
        "\n",
        "In order to carry out the project, a realistic timeline describes the progress during the project. The project plan takes around 9 months and 2 weeks from business understanding until deployment process. It can be seen that data understanding and data transformation require longer time to create a reliable model."
      ]
    },
    {
      "cell_type": "markdown",
      "metadata": {
        "id": "pP9oiRp5BYfR",
        "colab_type": "text"
      },
      "source": [
        "\n",
        "\n",
        "![alt text](https://raw.githubusercontent.com/ainnoun/UTS_ML_2019_ID13317464/master/timeline.jpg)\n",
        "\n",
        "*Figure 3: Project Timeline*\n"
      ]
    },
    {
      "cell_type": "markdown",
      "metadata": {
        "id": "REa1mWv386Ei",
        "colab_type": "text"
      },
      "source": [
        "The yield of the project is the values of each pillar and the accuracy score. It will be evaluated and compared to the the original result. By comparing to the original result, it can be used to construct an evaluation. Therefore, policy maker and stakeholders are able to be more prudent in interpreting the values of indicators and pillars. "
      ]
    },
    {
      "cell_type": "markdown",
      "metadata": {
        "id": "pU6xoLCxx2Kb",
        "colab_type": "text"
      },
      "source": [
        "## Budget"
      ]
    },
    {
      "cell_type": "markdown",
      "metadata": {
        "id": "XtR90YTCgxGs",
        "colab_type": "text"
      },
      "source": [
        "We estimates the project budget around AU$ 429.245 in total including the breakdowns into each work package and covering the project from the initial process until deployment as it is described the following table. In this budget plan, we do not calculate the cost of the office space, electronic equipments and internet bills. We assume that they are provide by the client considering we work in their office."
      ]
    },
    {
      "cell_type": "markdown",
      "metadata": {
        "id": "cjl7HMULx2Kc",
        "colab_type": "text"
      },
      "source": [
        "![alt text](https://raw.githubusercontent.com/ainnoun/UTS_ML_2019_ID13317464/master/budget.jpg)\n",
        "\n",
        "*Table 1: The Budget Plan*\n"
      ]
    },
    {
      "cell_type": "markdown",
      "metadata": {
        "id": "dehT_s2jx2Kd",
        "colab_type": "text"
      },
      "source": [
        "## Personnel"
      ]
    },
    {
      "cell_type": "markdown",
      "metadata": {
        "id": "mjM9Vsnwx2Ke",
        "colab_type": "text"
      },
      "source": [
        "According to the standardisation of data science process released by Microsoft Azure (2019), called Team Data Science Process (TDSP), it would be adopted in this project to describe personnel roles with their tasks.  "
      ]
    },
    {
      "cell_type": "markdown",
      "metadata": {
        "id": "U-L1ubRb9JOj",
        "colab_type": "text"
      },
      "source": [
        "![alt text](https://raw.githubusercontent.com/ainnoun/UTS_ML_2019_ID13317464/master/personnel.jpg)\n",
        "\n",
        "*Figure 4: Personnel Roles*"
      ]
    },
    {
      "cell_type": "markdown",
      "metadata": {
        "id": "fjEnEIW49OcF",
        "colab_type": "text"
      },
      "source": [
        "We define four different roles for the small project team:\n",
        "1.   Project lead: managing the team in data science, manage daily activities on specific data science project, create project charter, create final report and present the project;\n",
        "2.   Business Analyst: Improve business process, business intelligent understanding, define business goals and evaluate business insights;\n",
        "3.   Data Scientist: Data cleansing and transformation, apply machine learning method (Python), build model, evaluate, final check.\n",
        "4.   Business Architect: business intelligent understanding, develop and deploy pipeline."
      ]
    },
    {
      "cell_type": "markdown",
      "metadata": {
        "id": "XYiP9vOax2Kf",
        "colab_type": "text"
      },
      "source": [
        "## References\n",
        "\n",
        "1.   Ahmed, N. & Atiya, A. & Gayar, N. & El-Shishiny, H. 2007, *Tourism Demand Forecasting using Machine Learning Methods*, viewed 5 October 2019, https://pdfs.semanticscholar.org/e06a/ba82de7f1b37fc1f9c661dda37a0931d3f3a.pdf>.\n",
        "\n",
        "\n",
        "2.   Bulanov, A 2018, *How Machine Learning and AI Can Improve Travel Services*, viewed 5 October 2019, <https://towardsdatascience.com/how-machine-learning-and-ai-can-improve-travel-services-3fc8a88664c4>.\n",
        "\n",
        "\n",
        "3.   Cankurt, S. & Subasi, A. 2015, *Developing tourism demand forecasting models using machine learning techniques with trend, seasonal, and cyclic components*, viewed 5 October 2019, <https://pdfs.semanticscholar.org/7ece/42cec2e122476f6a2ecf3e4650cc79a8cc21.pdf>.\n",
        "\n",
        "\n",
        "4.   Canuma, P 2019, *Understanding Neural Network*, Towardsdatascience , viewed 5 October 2019, <https://towardsdatascience.com/understanding-neural-networks-22b29755abd9>.\n",
        "\n",
        "\n",
        "5.   Law, R., & Au, N, 1999, *A neural network model to forecast Japanese demand for travel to Hong Kong*, viewed 5 October 2019, <https://www.cse.unr.edu/~looney/cs773b/NNjapan-to-hongkong.pdf>.\n",
        "\n",
        "\n",
        "6.   Microsoft Azure 2019, *Team Data Science Process roles and tasks*, iewed 5 October 2019, <https://docs.microsoft.com/en-us/azure/machine-learning/team-data-science-process/roles-tasks>\n",
        "\n",
        "\n",
        "7.   United Nation World Tourism Organisation 2019, *Why Tourim?*, viewed 5 October 2019, <http://www2.unwto.org/content/why-tourism>\n",
        "\n",
        "\n",
        "8.   World Economic Forum 2019, *The Travel* & *Tourism Competitiveness* *Report 2019,* viewed 5 October 2019, <http://www3.weforum.org/docs/WEF_TTCR_2019.pdf>.\n",
        "\n",
        "\n",
        "9.   Wu, Wei-Wen 2011, *Beyond Travel & Tourism competitiveness ranking using DEA, GST, ANN and Borda count*, Expert Syst, Appl.. 38, 12974-12982, 10.1016/j.eswa.2011.04.096."
      ]
    },
    {
      "cell_type": "markdown",
      "metadata": {
        "id": "WE1u7lDqO91d",
        "colab_type": "text"
      },
      "source": [
        "## Video Pitch"
      ]
    },
    {
      "cell_type": "markdown",
      "metadata": {
        "id": "weoSVNprPDAb",
        "colab_type": "text"
      },
      "source": [
        "\n",
        "1.   [Machine Learning Pitch Video](https://youtu.be/a6FqWiDTj7Y) : https://youtu.be/a6FqWiDTj7Y\n",
        "\n",
        "2.   [Github Link](https://github.com/ainnoun/UTS_ML_2019_ID13317464)\n",
        "\n"
      ]
    }
  ]
}