{
  "nbformat": 4,
  "nbformat_minor": 0,
  "metadata": {
    "kernelspec": {
      "display_name": "Python 3",
      "language": "python",
      "name": "python3"
    },
    "language_info": {
      "codemirror_mode": {
        "name": "ipython",
        "version": 3
      },
      "file_extension": ".py",
      "mimetype": "text/x-python",
      "name": "python",
      "nbconvert_exporter": "python",
      "pygments_lexer": "ipython3",
      "version": "3.5.4"
    },
    "toc": {
      "base_numbering": 1,
      "nav_menu": {},
      "number_sections": true,
      "sideBar": true,
      "skip_h1_title": false,
      "title_cell": "Table of Contents",
      "title_sidebar": "Contents",
      "toc_cell": false,
      "toc_position": {},
      "toc_section_display": true,
      "toc_window_display": false
    },
    "colab": {
      "name": "A3_Ainnoun_13317464.ipynb",
      "provenance": [],
      "collapsed_sections": [],
      "include_colab_link": true
    }
  },
  "cells": [
    {
      "cell_type": "markdown",
      "metadata": {
        "id": "view-in-github",
        "colab_type": "text"
      },
      "source": [
        "<a href=\"https://colab.research.google.com/github/ainnoun/UTS_ML_2019_ID13317464/blob/master/A3_Ainnoun_13317464.ipynb\" target=\"_parent\"><img src=\"https://colab.research.google.com/assets/colab-badge.svg\" alt=\"Open In Colab\"/></a>"
      ]
    },
    {
      "cell_type": "markdown",
      "metadata": {
        "id": "Z2BP0654x2KP",
        "colab_type": "text"
      },
      "source": [
        "# Generating Travel and Tourism Trends and Risks "
      ]
    },
    {
      "cell_type": "markdown",
      "metadata": {
        "id": "RSlZ2v5Bx2KW",
        "colab_type": "text"
      },
      "source": [
        "## Aims"
      ]
    },
    {
      "cell_type": "markdown",
      "metadata": {
        "id": "s0Crfoatx2KX",
        "colab_type": "text"
      },
      "source": [
        "This project is to perform neural network method to build insights for predicting tourism trends and risks by certain indicators. Apart from the main objective, it is defined sub objective referring to:\n",
        "-\tIdentify attributes to be used as inputs in training dataset;\n",
        "-\tBuilding the performance of machine learning model using neural network method to classify the values;\n",
        "-\tEvaluate and validate the projection model using RSME;\n",
        "-\tCompare to the original data.\n",
        "\n"
      ]
    },
    {
      "cell_type": "markdown",
      "metadata": {
        "id": "HSM15kue02o4",
        "colab_type": "text"
      },
      "source": [
        "\n",
        "In this case, we will use reliable datasets published by WEF (World Economic Forum) that is The Travel and Tourism Competitiveness Index (TTCI) 2019 report. The dataset comprises of 14 pillars with 90 indicators. It is derived from one third of survey and two third data are retrieved from other sources (international organisations). Fourteen pillars should be given values ranging from 1 (worst) to 7 (best) based on indicator values. Each pillar has several indicators comprising:\n",
        "1.\tBusiness Environment (12 indicators) \n",
        "2.\tSafety and Security (5 indicators) \n",
        "3.\tHealth and Hygiene (6 indicators) \n",
        "4.\tHuman Resources and Labour Market (9 indicators) \n",
        "5.\tICT Readiness (8 indicators) \n",
        "6.\tPrioritization of Travel and Tourism (6 indicators) \n",
        "7.\tInternational Openness (3 indicators) \n",
        "8.\tPrice Competitiveness (4 indicators)\n",
        "9.\tEnvironmental Sustainability (10 indicators) \n",
        "10.\tAir Transport Infrastructure (6 indicators) \n",
        "11.\tGround and Port Infrastructure (7 indicators) \n",
        "12.\tTourist Service Infrastructure (4 indicators) \n",
        "13.\tNatural Resources (5 indicators) \n",
        "14.\tCultural Resources and Business Travel (5 indicators) "
      ]
    },
    {
      "cell_type": "markdown",
      "metadata": {
        "id": "6D3nRoNK--C9",
        "colab_type": "text"
      },
      "source": [
        "![alt text](https://raw.githubusercontent.com/ainnoun/UTS_ML_2019_ID13317464/master/TTCI.png)\n",
        "\n",
        "*Figure 1: Travel and Tourism Competitiveness Index 2019*"
      ]
    },
    {
      "cell_type": "markdown",
      "metadata": {
        "colab_type": "text",
        "id": "XmkXB4vO8Xrg"
      },
      "source": [
        "## Background"
      ]
    },
    {
      "cell_type": "markdown",
      "metadata": {
        "id": "Omd8XIk4x2KY",
        "colab_type": "text"
      },
      "source": [
        "The rapid growth of travel and tourism sector has contributed to the economic sector. According to UNWTO (United Nation World Tourism Organisation), around 1.8 billion international tourist arrival is predicted by 2030. The largest number should be taken into account as tourism is a key driver for social-economic progress that can be shown in the travel and tourism competitiveness index (TTCI) (UNWTO, 2019). TTCI aims to provide strategic tools in measuring factors to develop travel and tourism sector in different countries. TTCI is derived from the measurement of relevant factors (14 pillars including 90 indicators) which relates to tourism sectors of individual country. The measurement of tourism competitiveness is to shape the future tourism insights in order to ensure the competitiveness meet the demands. It provides reliable values for government and other stakeholders to acknowledge the emerging trends and anticipate the risks in the tourism sector. Stakeholders can use the generated unique insights to develop future tourism areas and enhance industry competitiveness. By driving the competitiveness, they adapt the policies, practices, and investment decision from other countries to be implemented in order to satisfy the tourism demands as well improve the strategy and accurate planning."
      ]
    },
    {
      "cell_type": "markdown",
      "metadata": {
        "id": "5SZELhFK8hzG",
        "colab_type": "text"
      },
      "source": [
        "Even though the measurement of travel and tourism competitiveness is conducted every two years with no specific reason, it is possible to be measured annually. Every two years WEF analyse the data from survey and other sources using indicators. In this project, we propose the different machine learning model that is a neural network method to gain the best performance. A neural network is widely used in predicting tourism demands as it optimizes the training that affects in the prediction tourism trends and risks. It is suggested that they are able to handle the problem more accurate, robust and powerful classification techniques that has similar work to the brains."
      ]
    },
    {
      "cell_type": "markdown",
      "metadata": {
        "id": "G-L0F48cx2KZ",
        "colab_type": "text"
      },
      "source": [
        "## Research Project"
      ]
    },
    {
      "cell_type": "markdown",
      "metadata": {
        "id": "8t0j7gpkx2Ka",
        "colab_type": "text"
      },
      "source": [
        "This year, WEF has released TTCI 2019 report encompassing the insights of travel and tourism competitiveness index of 140 countries. The TTCI is derived from an arithmetic mean from the four component sub-indexes with each pillar is calculated as an un-weighted average of the individual indicator. Then the data indicators are normalized to a 1 to 7 scale to align them with survey result. Other researches have been conducted on TTCI by evaluating the ranking of every country using diverse machine learning methods to obtain trustworthiness. Considering diverse and rapid changes of the indicators, it might be possible to adopt neural network method to perform better. Hence, this project will evaluate the performance of TTCI 2019 result using neural network method."
      ]
    },
    {
      "cell_type": "markdown",
      "metadata": {
        "id": "N7mre56J8qfE",
        "colab_type": "text"
      },
      "source": [
        "A neural network (NN) method consists of given several inputs, output, and hidden layer located between input and output with responsibility transform and learn the mapping between both layers (Canuma, 2019). The approach of own learning is to map its input to obtain targets. It captures the more complex relationships rather than linear relationships, handle noisy, and suitable for modelling, classification, prediction. In this case, we will use multi-layer perceptron (MLP) which is a class of the most common neural network architecture utilized supervised learning for training. It is also suitable for classification and regression prediction problems. Regarding its effectiveness, we will implement this method to evaluate the value of each pillar to learn its performance. MLP use a non-linear function in the hidden and output layers to allow the network to identify non-linear relationships in inputs. "
      ]
    },
    {
      "cell_type": "markdown",
      "metadata": {
        "id": "bGT5v3Ra8tGk",
        "colab_type": "text"
      },
      "source": [
        "Another research, Wu (2011) conducted on the evaluation of TTCI report 2011 ranking using data envelopment analysis (DEA), grey system theory (GST), artificial neural network (ANN) and Borda Count Methodology. He concluded that DEA generated better performance among them which is more relevant to the ranking. Apart from evaluating the ranking, we focus on identifying and analysing indicators using MLP to generate classification in value 1 to 7 for each pillar. Considering varied indicators and the relationships among the indicators affecting several pillars (14 pillars with 90 indicators), I proposed neural network method using MLP to classify each pillar in the range 1 to 7 based on the indicators in order to generate the accuracy. "
      ]
    },
    {
      "cell_type": "markdown",
      "metadata": {
        "id": "Owupy_ft8vdf",
        "colab_type": "text"
      },
      "source": [
        "According to CRISP-DM, the life cycle of the data mining project encompasses 6 phases: business understanding, data understanding, data preparation, modelling, evaluation, deployment. These phases is adopted into the proposed project including seven phases:"
      ]
    },
    {
      "cell_type": "markdown",
      "metadata": {
        "id": "FZs4i7368y8K",
        "colab_type": "text"
      },
      "source": [
        "![alt text](https://raw.githubusercontent.com/ainnoun/UTS_ML_2019_ID13317464/master/phases.jpg)\n",
        "\n",
        "*Figure 2: Seven procedure of provided solution*"
      ]
    },
    {
      "cell_type": "markdown",
      "metadata": {
        "id": "_Gp__WXL804K",
        "colab_type": "text"
      },
      "source": [
        "The project will require around 9 months and 2 weeks as it is described in the following diagram.\n",
        "\n"
      ]
    },
    {
      "cell_type": "markdown",
      "metadata": {
        "id": "pP9oiRp5BYfR",
        "colab_type": "text"
      },
      "source": [
        "![alt text](https://raw.githubusercontent.com/ainnoun/UTS_ML_2019_ID13317464/master/timeline.jpg)\n",
        "\n",
        "*Figure 3: Project Timeline*"
      ]
    },
    {
      "cell_type": "markdown",
      "metadata": {
        "id": "REa1mWv386Ei",
        "colab_type": "text"
      },
      "source": [
        "The yield of the project is the accuracy score and reliability of the model. The evaluation will be compared to the original result (TTCI 2019). Based on the evaluation, it provides the best method to be implemented in analysing and generate values of 14 pillars in TTCI. Policy maker and stakeholders are able to be more prudent in interpreting the performance in order to leverage the ranking."
      ]
    },
    {
      "cell_type": "markdown",
      "metadata": {
        "id": "pU6xoLCxx2Kb",
        "colab_type": "text"
      },
      "source": [
        "## Budget"
      ]
    },
    {
      "cell_type": "markdown",
      "metadata": {
        "id": "cjl7HMULx2Kc",
        "colab_type": "text"
      },
      "source": [
        "![alt text](https://raw.githubusercontent.com/ainnoun/UTS_ML_2019_ID13317464/master/budget.jpg)"
      ]
    },
    {
      "cell_type": "markdown",
      "metadata": {
        "id": "dehT_s2jx2Kd",
        "colab_type": "text"
      },
      "source": [
        "## Personnel"
      ]
    },
    {
      "cell_type": "markdown",
      "metadata": {
        "id": "mjM9Vsnwx2Ke",
        "colab_type": "text"
      },
      "source": [
        "According to the standardisation of data science process released by Microsoft, called Team Data Science Process (TDSP), it would be implemented in this project describing personnel roles with their tasks.  "
      ]
    },
    {
      "cell_type": "markdown",
      "metadata": {
        "id": "U-L1ubRb9JOj",
        "colab_type": "text"
      },
      "source": [
        "![alt text](https://raw.githubusercontent.com/ainnoun/UTS_ML_2019_ID13317464/master/personnel.jpg)\n",
        "\n",
        "*Figure 4: Personnel Roles*"
      ]
    },
    {
      "cell_type": "markdown",
      "metadata": {
        "id": "fjEnEIW49OcF",
        "colab_type": "text"
      },
      "source": [
        "We define four different roles for the project team:\n",
        "1.   Project lead: managing team in data science, manage daily activities on specific data science project, create project charter, create final report and present the project;\n",
        "2.   Business Analyst: Improve business process, business intelligent understanding, define business goals and evaluate business insights;\n",
        "3.   Data Scientist: Data cleansing and transformation, apply machine learning method (Python), build model, evaluate, final check.\n",
        "4.   Business Architect: business intelligent understanding, develop and deploy pipeline."
      ]
    },
    {
      "cell_type": "markdown",
      "metadata": {
        "id": "XYiP9vOax2Kf",
        "colab_type": "text"
      },
      "source": [
        "## References\n",
        "\n",
        "Wu, Wei-Wen. (2011). *Beyond Travel & Tourism competitiveness ranking using DEA, GST, ANN and Borda count.* Expert Syst. Appl.. 38. 12974-12982. 10.1016/j.eswa.2011.04.096.\n",
        "\n",
        "m"
      ]
    },
    {
      "cell_type": "code",
      "metadata": {
        "id": "WNoyMkkQ-SKy",
        "colab_type": "code",
        "colab": {}
      },
      "source": [
        ""
      ],
      "execution_count": 0,
      "outputs": []
    }
  ]
}